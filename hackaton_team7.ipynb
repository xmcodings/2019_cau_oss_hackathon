{
  "nbformat": 4,
  "nbformat_minor": 0,
  "metadata": {
    "colab": {
      "name": "hackaton_team7",
      "version": "0.3.2",
      "provenance": [],
      "collapsed_sections": [],
      "toc_visible": true,
      "include_colab_link": true
    },
    "kernelspec": {
      "name": "python3",
      "display_name": "Python 3"
    },
    "accelerator": "GPU"
  },
  "cells": [
    {
      "cell_type": "markdown",
      "metadata": {
        "id": "view-in-github",
        "colab_type": "text"
      },
      "source": [
        "<a href=\"https://colab.research.google.com/github/xmcodings/2019_cau_oss_hackathon/blob/master/hackaton_team7.ipynb\" target=\"_parent\"><img src=\"https://colab.research.google.com/assets/colab-badge.svg\" alt=\"Open In Colab\"/></a>"
      ]
    },
    {
      "cell_type": "markdown",
      "metadata": {
        "id": "1AosAX9DXOlc",
        "colab_type": "text"
      },
      "source": [
        "# **0. 해커톤 진행 주의사항**\n",
        "\n",
        "**1)  개발 관련 주의사항**\n",
        "*   [1. 초기 환경 설정]은 절대 수정하지 말 것\n",
        " *  단, 사용할 데이터셋에 따라 is_mnist만 수정\n",
        "*   모든 구현은 [2. 데이터 전처리]와 [3. 모델 생성]에서만 진행\n",
        " *  데이터 전처리 후 트레이닝, 데이터 셋은 x_train_after, x_test_after 변수명을 유지해주세요.\n",
        " *  데이터셋이 달라져도 같은 모델 구조를 유지하여야함.\n",
        "*   [4. 모델 저장]과 [5. 모델 로드 및 평가]에서 team_name 변수 변경 (예.`team_name = 'team01'`)\n",
        " *  트레이닝 중간에 checkpoint를 활용하여 모델을 저장한 경우에도 파일 이름 양식 통일 필수\n",
        " *  team_name을 제외한 다른 부분은 수정하지 말 것\n",
        "*   Colab 사용중 실수로 데이터 손실이 발생할 수도 있으니 중간 결과값을 github에 업로드 \n",
        " *    \"런타임->모든 런타임 재설정\"은 절대 누르지 말 것 (저장한 모델 데이터가 모두 삭제됨)\n",
        "*   효율적인 구현 및 테스팅을 위해 GPU 가속 기능 활성화\n",
        " *    \"런타임 -> 런타임 유형변경 -> 하드웨어 가속기 -> GPU 설정\"\n",
        "*   주석을 최대한 자세히 작성\n",
        "*   Keras API 관련하여 [Keras Documentation](https://keras.io/) 참조\n",
        "\n",
        "**2) 제출 관련 주의사항**\n",
        "*  제출물\n",
        " *  소스코드 (hackathon_teamXX.ipynb)\n",
        " *  모델 구조 파일 (model_structure_teamXX.json)\n",
        " *  모델 weight 파일 (model_weight_teamXX.h5)\n",
        " *  컴파일된 모델 파일 (model_entire_teamXX.h5)\n",
        "* 제출 기한: **오후 6시**\n",
        "* 제출 방법: [GitHub README](https://github.com/cauosshackathonta/2019_cau_oss_hackathon/) 참조\n",
        "\n",
        " \n",
        "**3) 평가 관련 주의사항**\n",
        "*  모델 성능 = 테스트 데이터 셋 분류 정확도\n",
        " *  model.evaluate(x_test, y_test)\n",
        "*  제출된 모델들의 테스트 데이터 셋 분류 정확도를 기준으로 수상작 결정\n",
        "*  수상 후보들에 대해서는 소스코드를 기반으로 모델 재검증 \n",
        " \n",
        "**4) 수상 실격 사유**\n",
        "*  유사한 소스코드 or 알고리즘이 적발될 경우\n",
        "*  소스코드와 제출된 모델이 상이한 경우\n",
        "*  두 개의 데이터셋에 대해 다른 모델 구조를 사용한 경우\n",
        "*  개발 관련 주의사항을 지키지 않은 경우\n",
        " *  예: [초기 환경 설정]을 수정한 경우\n",
        "*  데이터 셋을 변조한 경우\n",
        " *  예. 테스트 데이터 셋을 트레이닝 데이터 셋에 포함하여 모델 생성 \n",
        "*  주석이 소스코드와 맞지 않거나 미비할 경우\n",
        "\n",
        "\n",
        "\n",
        "\n"
      ]
    },
    {
      "cell_type": "markdown",
      "metadata": {
        "id": "67lwEXhUqys1",
        "colab_type": "text"
      },
      "source": [
        "# **1. 초기 환경 설정**\n",
        "\n"
      ]
    },
    {
      "cell_type": "code",
      "metadata": {
        "id": "Ms5PBBJ1qSC6",
        "colab_type": "code",
        "colab": {}
      },
      "source": [
        "from __future__ import absolute_import, division, print_function, unicode_literals, unicode_literals\n",
        "\n",
        "# tensorflow와 tf.keras 및 관련 라이브러리 임포트\n",
        "import tensorflow as tf\n",
        "from tensorflow import keras\n",
        "from keras.utils import np_utils\n",
        "\n",
        "import numpy as np\n",
        "\n",
        "is_mnist = False;\n",
        "\n",
        "# 데이터셋 로드\n",
        "# x_train, y_train: 트레이닝 데이터 및 레이블\n",
        "# x_test, y_test: 테스트 데이터 및 레이블\n",
        "if is_mnist:\n",
        "  data_type = 'mnist'\n",
        "  (x_train, y_train), (x_test, y_test) = keras.datasets.fashion_mnist.load_data() # fashion MNIST 데이터셋인 경우,\n",
        "else:\n",
        "  data_type = 'cifar10'\n",
        "  (x_train, y_train), (x_test, y_test) = keras.datasets.cifar10.load_data() # cifar10 데이터셋인 경우,\n",
        "\n",
        "\n",
        "# 분류를 위해 클래스 벡터를 바이너리 매트릭스로 변환\n",
        "y_train = np_utils.to_categorical(y_train)\n",
        "y_test = np_utils.to_categorical(y_test)\n",
        "\n",
        "# 총 클래스 개수\n",
        "num_classes = y_test.shape[1]\n",
        "\n",
        "# 인풋 데이터 타입\n",
        "input_shape = x_test.shape[1:]"
      ],
      "execution_count": 0,
      "outputs": []
    },
    {
      "cell_type": "markdown",
      "metadata": {
        "id": "p9c2KLDBIhNQ",
        "colab_type": "text"
      },
      "source": [
        "# **2. 데이터 전처리**\n"
      ]
    },
    {
      "cell_type": "code",
      "metadata": {
        "id": "zJNgjaHvIhSS",
        "colab_type": "code",
        "colab": {}
      },
      "source": [
        "# 데이터 전처리 (예: normalization)\n",
        "x_train_after = x_train / 255.0\n",
        "x_test_after = x_test / 255.0\n",
        "\n",
        "if is_mnist:\n",
        "  x_train_after = x_train_after.reshape(x_train_after.shape[0], 28,28,1);\n",
        "  x_test_after = x_test_after.reshape(x_test_after.shape[0], 28, 28,1);\n",
        "  input_shape = x_test_after.shape[1:]"
      ],
      "execution_count": 0,
      "outputs": []
    },
    {
      "cell_type": "markdown",
      "metadata": {
        "id": "A-YjppJpXBO9",
        "colab_type": "text"
      },
      "source": [
        "# **3. 모델 생성**\n",
        "\n"
      ]
    },
    {
      "cell_type": "code",
      "metadata": {
        "id": "DZP4eRmRqgRp",
        "colab_type": "code",
        "outputId": "c41e52ba-d4f1-4b82-a9aa-64d2a6455f90",
        "colab": {
          "base_uri": "https://localhost:8080/",
          "height": 821
        }
      },
      "source": [
        "# 순차 모델 생성 (가장 기본구조)\n",
        "model = keras.Sequential()\n",
        "\n",
        "# Flatten layer: 28 x 28 x 1 image를 784개의 1D vector input으로 변환\n",
        "\n",
        "# 1st hidden layer: fully-connected layer\n",
        "# (# of inputs = 784, # of outputs = 512, actication fuction = relu)\n",
        "\n",
        "\n",
        "\n",
        "model.add(keras.layers.Conv2D(32,kernel_size = (3,3), padding='same', strides = (1,1), activation = 'relu', kernel_initializer='he_uniform', input_shape=input_shape))\n",
        "\n",
        "model.add(keras.layers.BatchNormalization())\n",
        "\n",
        "model.add(keras.layers.Conv2D(32,kernel_size = (3,3), padding='same', activation = 'relu'))\n",
        "\n",
        "model.add(keras.layers.BatchNormalization())\n",
        "\n",
        "model.add(keras.layers.Conv2D(32,kernel_size = (5,5), padding='same',  strides = (2,2), activation = 'relu'))\n",
        "\n",
        "model.add(keras.layers.BatchNormalization())\n",
        "\n",
        "model.add(keras.layers.Dropout(0.4))\n",
        "\n",
        "\n",
        "\n",
        "model.add(keras.layers.Conv2D(64,kernel_size = (3,3),padding='same',  strides = (1,1), activation = 'relu'))\n",
        "\n",
        "model.add(keras.layers.BatchNormalization())\n",
        "\n",
        "model.add(keras.layers.Conv2D(64,kernel_size = (3,3), padding='same', activation = 'relu'))\n",
        "\n",
        "model.add(keras.layers.BatchNormalization())\n",
        "\n",
        "model.add(keras.layers.Conv2D(64,kernel_size = (5,5), padding='same', strides = (2,2), activation = 'relu'))\n",
        "\n",
        "model.add(keras.layers.BatchNormalization())\n",
        "\n",
        "model.add(keras.layers.Dropout(0.4))\n",
        "\n",
        "\n",
        "\n",
        "model.add(keras.layers.Conv2D(128,kernel_size = (3,3), padding='same', strides = (1,1), activation = 'relu'))\n",
        "\n",
        "model.add(keras.layers.BatchNormalization())\n",
        "\n",
        "model.add(keras.layers.Conv2D(128,kernel_size = (3,3), padding='same', activation = 'relu'))\n",
        "\n",
        "model.add(keras.layers.BatchNormalization())\n",
        "\n",
        "model.add(keras.layers.Conv2D(128,kernel_size = (5,5), padding='same', strides = (2,2), activation = 'relu'))\n",
        "\n",
        "model.add(keras.layers.BatchNormalization())\n",
        "\n",
        "model.add(keras.layers.Dropout(0.4))\n",
        "\n",
        "\n",
        "\n",
        "# model.add(keras.layers.MaxPooling2D(pool_size = (2,2)))\n",
        "\n",
        "model.add(keras.layers.Flatten())\n",
        "\n",
        "model.add(keras.layers.Dense(500, activation=tf.nn.relu))\n",
        "\n",
        "#model.add(keras.layers.Dense(10, activation=tf.nn.relu))\n",
        "\n",
        "# Output layer: fully-connected layer \n",
        "# (# of inputs = 64, # of outputs = 10, actication fuction = softmax)\n",
        "model.add(keras.layers.Dense(num_classes, activation=tf.nn.softmax))\n",
        "\n",
        "# 모델 컴파일\n",
        "# optimizer: 모델을 업데이트 하는 방식\n",
        "# loss: 모델의 정확 도를 판단하는 방식\n",
        "# metrics: 트레이닝 및 테스팅 성능 모니터링을 위한 평가지표\n",
        "model.compile(loss='categorical_crossentropy', optimizer='adam', metrics=['accuracy'])\n",
        "\n",
        "# 모델 트레이닝\n",
        "# batch_size: 전체 데이터셋 중 몇개씩 학습시킬 것인지\n",
        "# epoch: 학습에 전체 데이터셋이 총 몇번 이용될 것인지\n",
        "# shuffle: 학습전에 트레이닝 데이터셋을 랜덤하게 섞을 것인지\n",
        "# validation_data: 중간 성능 검증에 사용할 data set\n",
        "model.fit(x_train_after, y_train, batch_size = 128, epochs = 20, shuffle=True, validation_data=[x_test_after, y_test])"
      ],
      "execution_count": 170,
      "outputs": [
        {
          "output_type": "stream",
          "text": [
            "Train on 50000 samples, validate on 10000 samples\n",
            "Epoch 1/20\n",
            "50000/50000 [==============================] - 23s 467us/sample - loss: 1.5868 - acc: 0.4394 - val_loss: 1.4992 - val_acc: 0.4999\n",
            "Epoch 2/20\n",
            "50000/50000 [==============================] - 15s 303us/sample - loss: 1.1074 - acc: 0.6040 - val_loss: 0.9754 - val_acc: 0.6623\n",
            "Epoch 3/20\n",
            "50000/50000 [==============================] - 15s 298us/sample - loss: 0.9001 - acc: 0.6818 - val_loss: 1.4092 - val_acc: 0.5705\n",
            "Epoch 4/20\n",
            "50000/50000 [==============================] - 15s 295us/sample - loss: 0.7706 - acc: 0.7267 - val_loss: 0.7705 - val_acc: 0.7336\n",
            "Epoch 5/20\n",
            "50000/50000 [==============================] - 15s 294us/sample - loss: 0.6724 - acc: 0.7636 - val_loss: 0.7575 - val_acc: 0.7514\n",
            "Epoch 6/20\n",
            "50000/50000 [==============================] - 15s 295us/sample - loss: 0.5977 - acc: 0.7889 - val_loss: 0.7737 - val_acc: 0.7509\n",
            "Epoch 7/20\n",
            "50000/50000 [==============================] - 15s 296us/sample - loss: 0.5460 - acc: 0.8095 - val_loss: 0.7200 - val_acc: 0.7696\n",
            "Epoch 8/20\n",
            "50000/50000 [==============================] - 15s 296us/sample - loss: 0.4882 - acc: 0.8295 - val_loss: 0.6798 - val_acc: 0.7790\n",
            "Epoch 9/20\n",
            "50000/50000 [==============================] - 15s 296us/sample - loss: 0.4460 - acc: 0.8443 - val_loss: 0.6193 - val_acc: 0.8000\n",
            "Epoch 10/20\n",
            "50000/50000 [==============================] - 15s 296us/sample - loss: 0.4069 - acc: 0.8569 - val_loss: 0.5956 - val_acc: 0.8141\n",
            "Epoch 11/20\n",
            "50000/50000 [==============================] - 15s 295us/sample - loss: 0.3735 - acc: 0.8684 - val_loss: 0.5951 - val_acc: 0.8163\n",
            "Epoch 12/20\n",
            "50000/50000 [==============================] - 15s 296us/sample - loss: 0.3441 - acc: 0.8774 - val_loss: 0.5810 - val_acc: 0.8187\n",
            "Epoch 13/20\n",
            "50000/50000 [==============================] - 15s 296us/sample - loss: 0.3029 - acc: 0.8929 - val_loss: 0.5641 - val_acc: 0.8294\n",
            "Epoch 14/20\n",
            "50000/50000 [==============================] - 15s 295us/sample - loss: 0.2921 - acc: 0.8955 - val_loss: 0.6187 - val_acc: 0.8196\n",
            "Epoch 15/20\n",
            "50000/50000 [==============================] - 15s 296us/sample - loss: 0.2651 - acc: 0.9046 - val_loss: 0.6011 - val_acc: 0.8271\n",
            "Epoch 16/20\n",
            "50000/50000 [==============================] - 15s 296us/sample - loss: 0.2417 - acc: 0.9133 - val_loss: 0.5952 - val_acc: 0.8304\n",
            "Epoch 17/20\n",
            "50000/50000 [==============================] - 15s 295us/sample - loss: 0.2258 - acc: 0.9199 - val_loss: 0.6526 - val_acc: 0.8245\n",
            "Epoch 18/20\n",
            "50000/50000 [==============================] - 15s 297us/sample - loss: 0.2088 - acc: 0.9267 - val_loss: 0.6356 - val_acc: 0.8316\n",
            "Epoch 19/20\n",
            "50000/50000 [==============================] - 15s 296us/sample - loss: 0.1931 - acc: 0.9318 - val_loss: 0.5970 - val_acc: 0.8384\n",
            "Epoch 20/20\n",
            "50000/50000 [==============================] - 15s 295us/sample - loss: 0.1806 - acc: 0.9361 - val_loss: 0.6834 - val_acc: 0.8210\n"
          ],
          "name": "stdout"
        },
        {
          "output_type": "execute_result",
          "data": {
            "text/plain": [
              "<tensorflow.python.keras.callbacks.History at 0x7f946e164160>"
            ]
          },
          "metadata": {
            "tags": []
          },
          "execution_count": 170
        }
      ]
    },
    {
      "cell_type": "markdown",
      "metadata": {
        "id": "TDrGcEjwPthq",
        "colab_type": "text"
      },
      "source": [
        ""
      ]
    },
    {
      "cell_type": "markdown",
      "metadata": {
        "id": "QR9WUYXxqtfR",
        "colab_type": "text"
      },
      "source": [
        "# **4. 모델 저장**"
      ]
    },
    {
      "cell_type": "code",
      "metadata": {
        "id": "Wi9yznz4qvzK",
        "colab_type": "code",
        "colab": {}
      },
      "source": [
        "save_path = '/content/'\n",
        "team_name = 'team7'\n",
        "\n",
        "# 모델의 weight 값만 저장합니다.\n",
        "model.save_weights(save_path + 'model_weight_' + data_type + '_' + team_name + '.h5')\n",
        "\n",
        "# 모델의 구조만을 저장합니다.\n",
        "model_json = model.to_json()\n",
        "with open(save_path + 'model_structure_' + data_type + '_' + team_name + '.json', 'w') as json_file : \n",
        "    json_file.write(model_json)\n",
        "\n",
        "# 트레이닝된 전체 모델을 저장합니다.\n",
        "model.save(save_path +  'model_entire_' + data_type + '_' + team_name + '.h5')"
      ],
      "execution_count": 0,
      "outputs": []
    },
    {
      "cell_type": "markdown",
      "metadata": {
        "id": "1B2BoRDZ7cFl",
        "colab_type": "text"
      },
      "source": [
        "# **5. 모델 로드 및 평가**"
      ]
    },
    {
      "cell_type": "code",
      "metadata": {
        "id": "SDBwxVUx7knQ",
        "colab_type": "code",
        "outputId": "583e53fb-a439-4d12-8296-a5cbd203aaea",
        "colab": {
          "base_uri": "https://localhost:8080/",
          "height": 75
        }
      },
      "source": [
        "save_path = '/content/'\n",
        "team_name = 'team7'\n",
        "\n",
        "model = keras.models.load_model(save_path + 'model_entire_' + data_type + '_' + team_name + '.h5')\n",
        "model.evaluate(x_test_after, y_test)"
      ],
      "execution_count": 172,
      "outputs": [
        {
          "output_type": "stream",
          "text": [
            "10000/10000 [==============================] - 4s 440us/sample - loss: 0.6834 - acc: 0.8210\n"
          ],
          "name": "stdout"
        },
        {
          "output_type": "execute_result",
          "data": {
            "text/plain": [
              "[0.6833991032838821, 0.821]"
            ]
          },
          "metadata": {
            "tags": []
          },
          "execution_count": 172
        }
      ]
    },
    {
      "cell_type": "code",
      "metadata": {
        "id": "oSgqEQ13mgG2",
        "colab_type": "code",
        "colab": {}
      },
      "source": [
        ""
      ],
      "execution_count": 0,
      "outputs": []
    }
  ]
}